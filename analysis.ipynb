{
 "cells": [
  {
   "cell_type": "code",
   "execution_count": 2,
   "id": "151fa989-2160-494d-938f-eabc7f6bbddf",
   "metadata": {},
   "outputs": [],
   "source": [
    "import pandas as pd\n",
    "import numpy as np\n",
    "import matplotlib.pyplot as plt\n",
    "# import connection"
   ]
  },
  {
   "cell_type": "code",
   "execution_count": 3,
   "id": "778c8e0e",
   "metadata": {},
   "outputs": [
    {
     "data": {
      "text/html": [
       "<div>\n",
       "<style scoped>\n",
       "    .dataframe tbody tr th:only-of-type {\n",
       "        vertical-align: middle;\n",
       "    }\n",
       "\n",
       "    .dataframe tbody tr th {\n",
       "        vertical-align: top;\n",
       "    }\n",
       "\n",
       "    .dataframe thead th {\n",
       "        text-align: right;\n",
       "    }\n",
       "</style>\n",
       "<table border=\"1\" class=\"dataframe\">\n",
       "  <thead>\n",
       "    <tr style=\"text-align: right;\">\n",
       "      <th></th>\n",
       "      <th>gender</th>\n",
       "      <th>race/ethnicity</th>\n",
       "      <th>parental level of education</th>\n",
       "      <th>lunch</th>\n",
       "      <th>test preparation course</th>\n",
       "      <th>math score</th>\n",
       "      <th>reading score</th>\n",
       "      <th>writing score</th>\n",
       "    </tr>\n",
       "  </thead>\n",
       "  <tbody>\n",
       "    <tr>\n",
       "      <th>0</th>\n",
       "      <td>female</td>\n",
       "      <td>group B</td>\n",
       "      <td>bachelor's degree</td>\n",
       "      <td>standard</td>\n",
       "      <td>none</td>\n",
       "      <td>72</td>\n",
       "      <td>72</td>\n",
       "      <td>74</td>\n",
       "    </tr>\n",
       "    <tr>\n",
       "      <th>1</th>\n",
       "      <td>female</td>\n",
       "      <td>group C</td>\n",
       "      <td>some college</td>\n",
       "      <td>standard</td>\n",
       "      <td>completed</td>\n",
       "      <td>69</td>\n",
       "      <td>90</td>\n",
       "      <td>88</td>\n",
       "    </tr>\n",
       "    <tr>\n",
       "      <th>2</th>\n",
       "      <td>female</td>\n",
       "      <td>group B</td>\n",
       "      <td>master's degree</td>\n",
       "      <td>standard</td>\n",
       "      <td>none</td>\n",
       "      <td>90</td>\n",
       "      <td>95</td>\n",
       "      <td>93</td>\n",
       "    </tr>\n",
       "    <tr>\n",
       "      <th>3</th>\n",
       "      <td>male</td>\n",
       "      <td>group A</td>\n",
       "      <td>associate's degree</td>\n",
       "      <td>free/reduced</td>\n",
       "      <td>none</td>\n",
       "      <td>47</td>\n",
       "      <td>57</td>\n",
       "      <td>44</td>\n",
       "    </tr>\n",
       "    <tr>\n",
       "      <th>4</th>\n",
       "      <td>male</td>\n",
       "      <td>group C</td>\n",
       "      <td>some college</td>\n",
       "      <td>standard</td>\n",
       "      <td>none</td>\n",
       "      <td>76</td>\n",
       "      <td>78</td>\n",
       "      <td>75</td>\n",
       "    </tr>\n",
       "  </tbody>\n",
       "</table>\n",
       "</div>"
      ],
      "text/plain": [
       "   gender race/ethnicity parental level of education         lunch  \\\n",
       "0  female        group B           bachelor's degree      standard   \n",
       "1  female        group C                some college      standard   \n",
       "2  female        group B             master's degree      standard   \n",
       "3    male        group A          associate's degree  free/reduced   \n",
       "4    male        group C                some college      standard   \n",
       "\n",
       "  test preparation course  math score  reading score  writing score  \n",
       "0                    none          72             72             74  \n",
       "1               completed          69             90             88  \n",
       "2                    none          90             95             93  \n",
       "3                    none          47             57             44  \n",
       "4                    none          76             78             75  "
      ]
     },
     "execution_count": 3,
     "metadata": {},
     "output_type": "execute_result"
    }
   ],
   "source": [
    "# Read the file\n",
    "df1 = pd.read_csv('StudentsPerformance.csv')\n",
    "df1.head()"
   ]
  },
  {
   "cell_type": "code",
   "execution_count": 4,
   "id": "2b17bc12-16e3-4f01-9fc4-93af4cc52041",
   "metadata": {},
   "outputs": [
    {
     "data": {
      "text/html": [
       "<div>\n",
       "<style scoped>\n",
       "    .dataframe tbody tr th:only-of-type {\n",
       "        vertical-align: middle;\n",
       "    }\n",
       "\n",
       "    .dataframe tbody tr th {\n",
       "        vertical-align: top;\n",
       "    }\n",
       "\n",
       "    .dataframe thead th {\n",
       "        text-align: right;\n",
       "    }\n",
       "</style>\n",
       "<table border=\"1\" class=\"dataframe\">\n",
       "  <thead>\n",
       "    <tr style=\"text-align: right;\">\n",
       "      <th></th>\n",
       "      <th>GENDER</th>\n",
       "      <th>ETHNICITY</th>\n",
       "      <th>PARENTAL EDUCATION LEVEL</th>\n",
       "      <th>LUNCH</th>\n",
       "      <th>TEST PREPARATION COURSE</th>\n",
       "      <th>MATH SCORE</th>\n",
       "      <th>READING SCORE</th>\n",
       "      <th>WRITING SCORE</th>\n",
       "    </tr>\n",
       "  </thead>\n",
       "  <tbody>\n",
       "    <tr>\n",
       "      <th>0</th>\n",
       "      <td>female</td>\n",
       "      <td>group B</td>\n",
       "      <td>bachelor's degree</td>\n",
       "      <td>standard</td>\n",
       "      <td>none</td>\n",
       "      <td>72</td>\n",
       "      <td>72</td>\n",
       "      <td>74</td>\n",
       "    </tr>\n",
       "    <tr>\n",
       "      <th>1</th>\n",
       "      <td>female</td>\n",
       "      <td>group C</td>\n",
       "      <td>some college</td>\n",
       "      <td>standard</td>\n",
       "      <td>completed</td>\n",
       "      <td>69</td>\n",
       "      <td>90</td>\n",
       "      <td>88</td>\n",
       "    </tr>\n",
       "    <tr>\n",
       "      <th>2</th>\n",
       "      <td>female</td>\n",
       "      <td>group B</td>\n",
       "      <td>master's degree</td>\n",
       "      <td>standard</td>\n",
       "      <td>none</td>\n",
       "      <td>90</td>\n",
       "      <td>95</td>\n",
       "      <td>93</td>\n",
       "    </tr>\n",
       "    <tr>\n",
       "      <th>3</th>\n",
       "      <td>male</td>\n",
       "      <td>group A</td>\n",
       "      <td>associate's degree</td>\n",
       "      <td>free/reduced</td>\n",
       "      <td>none</td>\n",
       "      <td>47</td>\n",
       "      <td>57</td>\n",
       "      <td>44</td>\n",
       "    </tr>\n",
       "    <tr>\n",
       "      <th>4</th>\n",
       "      <td>male</td>\n",
       "      <td>group C</td>\n",
       "      <td>some college</td>\n",
       "      <td>standard</td>\n",
       "      <td>none</td>\n",
       "      <td>76</td>\n",
       "      <td>78</td>\n",
       "      <td>75</td>\n",
       "    </tr>\n",
       "  </tbody>\n",
       "</table>\n",
       "</div>"
      ],
      "text/plain": [
       "   GENDER ETHNICITY PARENTAL EDUCATION LEVEL         LUNCH  \\\n",
       "0  female   group B        bachelor's degree      standard   \n",
       "1  female   group C             some college      standard   \n",
       "2  female   group B          master's degree      standard   \n",
       "3    male   group A       associate's degree  free/reduced   \n",
       "4    male   group C             some college      standard   \n",
       "\n",
       "  TEST PREPARATION COURSE  MATH SCORE  READING SCORE  WRITING SCORE  \n",
       "0                    none          72             72             74  \n",
       "1               completed          69             90             88  \n",
       "2                    none          90             95             93  \n",
       "3                    none          47             57             44  \n",
       "4                    none          76             78             75  "
      ]
     },
     "execution_count": 4,
     "metadata": {},
     "output_type": "execute_result"
    }
   ],
   "source": [
    "#Changes in dataframe made in connection.py\n",
    "# df2 = connection.df\n",
    "\n",
    "columns_names = {\n",
    "    'gender': 'GENDER',\n",
    "    'race/ethnicity': 'ETHNICITY',\n",
    "    'parental level of education': 'PARENTAL EDUCATION LEVEL',\n",
    "    'lunch': 'LUNCH',\n",
    "    'test preparation course': 'TEST PREPARATION COURSE',\n",
    "    'math score': 'MATH SCORE',\n",
    "    'reading score': 'READING SCORE',\n",
    "    'writing score': 'WRITING SCORE'\n",
    "}\n",
    "    \n",
    "df1.rename(columns = columns_names, inplace = True)\n",
    "\n",
    "df1.head()"
   ]
  },
  {
   "cell_type": "code",
   "execution_count": 5,
   "id": "e8bf608c",
   "metadata": {},
   "outputs": [
    {
     "data": {
      "text/plain": [
       "array(['none', 'completed'], dtype=object)"
      ]
     },
     "execution_count": 5,
     "metadata": {},
     "output_type": "execute_result"
    }
   ],
   "source": [
    "df1['TEST PREPARATION COURSE'].unique()"
   ]
  },
  {
   "cell_type": "markdown",
   "id": "7f4bc340-13fe-40ec-9973-3aa1d7505ae9",
   "metadata": {},
   "source": [
    "### Check Data Quality"
   ]
  },
  {
   "cell_type": "code",
   "execution_count": 6,
   "id": "5bacddab",
   "metadata": {},
   "outputs": [
    {
     "name": "stdout",
     "output_type": "stream",
     "text": [
      "0 \n",
      "\n",
      "GENDER                      0\n",
      "ETHNICITY                   0\n",
      "PARENTAL EDUCATION LEVEL    0\n",
      "LUNCH                       0\n",
      "TEST PREPARATION COURSE     0\n",
      "MATH SCORE                  0\n",
      "READING SCORE               0\n",
      "WRITING SCORE               0\n",
      "dtype: int64 \n",
      "\n",
      "dict_keys(['female', 'male'])\n",
      "dict_keys(['group A', 'group B', 'group C', 'group D', 'group E'])\n",
      "dict_keys([\"associate's degree\", \"bachelor's degree\", 'high school', \"master's degree\", 'some college', 'some high school'])\n",
      "dict_keys(['free/reduced', 'standard'])\n",
      "dict_keys(['completed', 'none'])\n",
      "\n",
      " GENDER                      object\n",
      "ETHNICITY                   object\n",
      "PARENTAL EDUCATION LEVEL    object\n",
      "LUNCH                       object\n",
      "TEST PREPARATION COURSE     object\n",
      "MATH SCORE                   int64\n",
      "READING SCORE                int64\n",
      "WRITING SCORE                int64\n",
      "dtype: object \n",
      "\n",
      "MATH SCORE's column minimum value is: 0 , and maximum is: 100\n",
      "READING SCORE's column minimum value is: 17 , and maximum is: 100\n",
      "WRITING SCORE's column minimum value is: 10 , and maximum is: 100\n",
      "\n",
      "Amount of rows are: 1000\n",
      "Amount of columns are: 8\n"
     ]
    }
   ],
   "source": [
    "#Equal zero, there are no duplicate values\n",
    "print(len(df1) - len(df1.drop_duplicates()), \"\\n\")\n",
    "\n",
    "#Counting null values in each column in df with a boolean mask\n",
    "print(df1.isna().sum(axis = 0), \"\\n\")\n",
    "\n",
    "for column in df1.columns:\n",
    "    if column == 'MATH SCORE':\n",
    "        break\n",
    "    else:\n",
    "        print(df1.groupby(column).groups.keys())\n",
    "\n",
    "print(\"\\n\", df1.dtypes, \"\\n\")\n",
    "\n",
    "for column in df1.loc[:,'MATH SCORE':'WRITING SCORE']:\n",
    "    print(f\"{column}'s column minimum value is:\", df1[column].min(), \", and maximum is:\", df1[column].max())\n",
    "\n",
    "(rows, columns) = df1.shape\n",
    "\n",
    "print(\"\\nAmount of rows are:\", rows)\n",
    "print(\"Amount of columns are:\", columns)\n"
   ]
  },
  {
   "cell_type": "markdown",
   "id": "46d79d3c-9b11-423b-a269-f1cea2151359",
   "metadata": {},
   "source": [
    "### EDA (Exploratory Data Analysis)"
   ]
  },
  {
   "cell_type": "code",
   "execution_count": 7,
   "id": "a2610a18",
   "metadata": {},
   "outputs": [
    {
     "name": "stdout",
     "output_type": "stream",
     "text": [
      "<class 'pandas.core.frame.DataFrame'>\n",
      "RangeIndex: 1000 entries, 0 to 999\n",
      "Data columns (total 8 columns):\n",
      " #   Column                    Non-Null Count  Dtype \n",
      "---  ------                    --------------  ----- \n",
      " 0   GENDER                    1000 non-null   object\n",
      " 1   ETHNICITY                 1000 non-null   object\n",
      " 2   PARENTAL EDUCATION LEVEL  1000 non-null   object\n",
      " 3   LUNCH                     1000 non-null   object\n",
      " 4   TEST PREPARATION COURSE   1000 non-null   object\n",
      " 5   MATH SCORE                1000 non-null   int64 \n",
      " 6   READING SCORE             1000 non-null   int64 \n",
      " 7   WRITING SCORE             1000 non-null   int64 \n",
      "dtypes: int64(3), object(5)\n",
      "memory usage: 62.6+ KB\n"
     ]
    }
   ],
   "source": [
    "df1.info()"
   ]
  },
  {
   "cell_type": "code",
   "execution_count": 8,
   "id": "b4ed6ea5",
   "metadata": {},
   "outputs": [
    {
     "data": {
      "text/plain": [
       "LUNCH\n",
       "standard        645\n",
       "free/reduced    355\n",
       "Name: count, dtype: int64"
      ]
     },
     "execution_count": 8,
     "metadata": {},
     "output_type": "execute_result"
    }
   ],
   "source": [
    "df1['LUNCH'].value_counts()"
   ]
  },
  {
   "cell_type": "code",
   "execution_count": 9,
   "id": "92a84a79",
   "metadata": {},
   "outputs": [
    {
     "data": {
      "text/plain": [
       "GENDER                      0\n",
       "ETHNICITY                   0\n",
       "PARENTAL EDUCATION LEVEL    0\n",
       "LUNCH                       0\n",
       "TEST PREPARATION COURSE     0\n",
       "MATH SCORE                  0\n",
       "READING SCORE               0\n",
       "WRITING SCORE               0\n",
       "dtype: int64"
      ]
     },
     "execution_count": 9,
     "metadata": {},
     "output_type": "execute_result"
    }
   ],
   "source": [
    "df1.isnull().sum()"
   ]
  },
  {
   "cell_type": "code",
   "execution_count": 10,
   "id": "3a168ab0",
   "metadata": {},
   "outputs": [
    {
     "data": {
      "text/html": [
       "<div>\n",
       "<style scoped>\n",
       "    .dataframe tbody tr th:only-of-type {\n",
       "        vertical-align: middle;\n",
       "    }\n",
       "\n",
       "    .dataframe tbody tr th {\n",
       "        vertical-align: top;\n",
       "    }\n",
       "\n",
       "    .dataframe thead th {\n",
       "        text-align: right;\n",
       "    }\n",
       "</style>\n",
       "<table border=\"1\" class=\"dataframe\">\n",
       "  <thead>\n",
       "    <tr style=\"text-align: right;\">\n",
       "      <th></th>\n",
       "      <th>MATH SCORE</th>\n",
       "      <th>READING SCORE</th>\n",
       "      <th>WRITING SCORE</th>\n",
       "    </tr>\n",
       "  </thead>\n",
       "  <tbody>\n",
       "    <tr>\n",
       "      <th>count</th>\n",
       "      <td>1000.00000</td>\n",
       "      <td>1000.000000</td>\n",
       "      <td>1000.000000</td>\n",
       "    </tr>\n",
       "    <tr>\n",
       "      <th>mean</th>\n",
       "      <td>66.08900</td>\n",
       "      <td>69.169000</td>\n",
       "      <td>68.054000</td>\n",
       "    </tr>\n",
       "    <tr>\n",
       "      <th>std</th>\n",
       "      <td>15.16308</td>\n",
       "      <td>14.600192</td>\n",
       "      <td>15.195657</td>\n",
       "    </tr>\n",
       "    <tr>\n",
       "      <th>min</th>\n",
       "      <td>0.00000</td>\n",
       "      <td>17.000000</td>\n",
       "      <td>10.000000</td>\n",
       "    </tr>\n",
       "    <tr>\n",
       "      <th>25%</th>\n",
       "      <td>57.00000</td>\n",
       "      <td>59.000000</td>\n",
       "      <td>57.750000</td>\n",
       "    </tr>\n",
       "    <tr>\n",
       "      <th>50%</th>\n",
       "      <td>66.00000</td>\n",
       "      <td>70.000000</td>\n",
       "      <td>69.000000</td>\n",
       "    </tr>\n",
       "    <tr>\n",
       "      <th>75%</th>\n",
       "      <td>77.00000</td>\n",
       "      <td>79.000000</td>\n",
       "      <td>79.000000</td>\n",
       "    </tr>\n",
       "    <tr>\n",
       "      <th>max</th>\n",
       "      <td>100.00000</td>\n",
       "      <td>100.000000</td>\n",
       "      <td>100.000000</td>\n",
       "    </tr>\n",
       "  </tbody>\n",
       "</table>\n",
       "</div>"
      ],
      "text/plain": [
       "       MATH SCORE  READING SCORE  WRITING SCORE\n",
       "count  1000.00000    1000.000000    1000.000000\n",
       "mean     66.08900      69.169000      68.054000\n",
       "std      15.16308      14.600192      15.195657\n",
       "min       0.00000      17.000000      10.000000\n",
       "25%      57.00000      59.000000      57.750000\n",
       "50%      66.00000      70.000000      69.000000\n",
       "75%      77.00000      79.000000      79.000000\n",
       "max     100.00000     100.000000     100.000000"
      ]
     },
     "execution_count": 10,
     "metadata": {},
     "output_type": "execute_result"
    }
   ],
   "source": [
    "df1.describe()"
   ]
  },
  {
   "cell_type": "code",
   "execution_count": 11,
   "id": "2238980d",
   "metadata": {},
   "outputs": [],
   "source": [
    "# Histograma"
   ]
  },
  {
   "cell_type": "markdown",
   "id": "7f302982-d0ed-40f7-a7c1-0fe8ac7cb102",
   "metadata": {},
   "source": [
    "### Data preparation"
   ]
  },
  {
   "cell_type": "code",
   "execution_count": 12,
   "id": "ee3e2ea3",
   "metadata": {},
   "outputs": [
    {
     "name": "stdout",
     "output_type": "stream",
     "text": [
      "[array(['completed', 'none'], dtype=object)]\n",
      "[[0.]\n",
      " [1.]\n",
      " [0.]\n",
      " [0.]\n",
      " [0.]\n",
      " [0.]\n",
      " [1.]\n",
      " [0.]\n",
      " [1.]\n",
      " [0.]]\n"
     ]
    }
   ],
   "source": [
    "from sklearn.preprocessing import OneHotEncoder\n",
    "\n",
    "X = df1[[\"TEST PREPARATION COURSE\"]]\n",
    "df1[\"MEAN_GRADE\"] = df1.loc[:, \"MATH SCORE\":\"WRITING SCORE\"].mean(axis = 1)\n",
    "Y = df1[[\"MEAN_GRADE\"]]\n",
    "\n",
    "# We want a dummy encoding, not One-Hot itself, for that, just to make sure, we set the baseline of which categorie will be set to 0\n",
    "\n",
    "enc = OneHotEncoder(drop = [\"none\"]) #Drop the column \"none\" in the onehotencoding, therefore in the \"completed\" column \"none\" is represented as 0\n",
    "X = enc.fit_transform(X)\n",
    "print(enc.categories_)\n",
    "X = X.toarray() #First 10 observations\n",
    "print(X[0:10])"
   ]
  },
  {
   "cell_type": "markdown",
   "id": "f369bb3d-d57e-464e-9fd7-f6e26e0a1c28",
   "metadata": {},
   "source": [
    "### Visualizations"
   ]
  },
  {
   "cell_type": "code",
   "execution_count": null,
   "id": "a59d3529-401f-4bd2-ad7d-8afa8118f4d9",
   "metadata": {},
   "outputs": [],
   "source": []
  },
  {
   "cell_type": "markdown",
   "id": "37fa86f8",
   "metadata": {},
   "source": [
    "### Machine Learning"
   ]
  },
  {
   "cell_type": "code",
   "execution_count": 15,
   "id": "68e7b1e7",
   "metadata": {},
   "outputs": [
    {
     "name": "stdout",
     "output_type": "stream",
     "text": [
      "(990, 1) (10, 1) (990, 1) (10, 1)\n",
      "                            OLS Regression Results                            \n",
      "==============================================================================\n",
      "Dep. Variable:             MEAN_GRADE   R-squared:                       0.064\n",
      "Model:                            OLS   Adj. R-squared:                  0.063\n",
      "Method:                 Least Squares   F-statistic:                     67.21\n",
      "Date:                Sun, 23 Jul 2023   Prob (F-statistic):           7.53e-16\n",
      "Time:                        16:30:02   Log-Likelihood:                -4003.6\n",
      "No. Observations:                 990   AIC:                             8011.\n",
      "Df Residuals:                     988   BIC:                             8021.\n",
      "Df Model:                           1                                         \n",
      "Covariance Type:            nonrobust                                         \n",
      "==============================================================================\n",
      "                 coef    std err          t      P>|t|      [0.025      0.975]\n",
      "------------------------------------------------------------------------------\n",
      "const         65.0943      0.548    118.786      0.000      64.019      66.170\n",
      "x1             7.5130      0.916      8.198      0.000       5.715       9.311\n",
      "==============================================================================\n",
      "Omnibus:                       13.713   Durbin-Watson:                   2.124\n",
      "Prob(Omnibus):                  0.001   Jarque-Bera (JB):               13.887\n",
      "Skew:                          -0.284   Prob(JB):                     0.000965\n",
      "Kurtosis:                       3.117   Cond. No.                         2.42\n",
      "==============================================================================\n",
      "\n",
      "Notes:\n",
      "[1] Standard Errors assume that the covariance matrix of the errors is correctly specified.\n"
     ]
    }
   ],
   "source": [
    "from sklearn.compose import make_column_transformer\n",
    "from sklearn.pipeline import make_pipeline \n",
    "from sklearn.preprocessing import StandardScaler\n",
    "from sklearn.linear_model import LinearRegression\n",
    "from sklearn.model_selection import cross_val_score, train_test_split\n",
    "\n",
    "import statsmodels.api as sm\n",
    "\n",
    "X_train, X_test, Y_train, Y_test = train_test_split(X,Y, test_size = 0.010, random_state = 2)\n",
    "\n",
    "print(X_train.shape, X_test.shape, Y_train.shape, Y_test.shape) # Matrices' dimensions\n",
    "\n",
    "X_train = sm.add_constant(X_train)\n",
    "model = sm.OLS(Y_train, X_train)\n",
    "results = model.fit()\n",
    "print(results.summary())"
   ]
  }
 ],
 "metadata": {
  "kernelspec": {
   "display_name": ".venv",
   "language": "python",
   "name": "python3"
  },
  "language_info": {
   "codemirror_mode": {
    "name": "ipython",
    "version": 3
   },
   "file_extension": ".py",
   "mimetype": "text/x-python",
   "name": "python",
   "nbconvert_exporter": "python",
   "pygments_lexer": "ipython3",
   "version": "3.10.11"
  },
  "vscode": {
   "interpreter": {
    "hash": "646fd4e5d94d67ce19e618d5825b2d5aa13a16bfeccefbe7287cea601b6e3aa8"
   }
  }
 },
 "nbformat": 4,
 "nbformat_minor": 5
}
